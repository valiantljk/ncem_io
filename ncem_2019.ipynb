{
 "cells": [
  {
   "cell_type": "markdown",
   "metadata": {},
   "source": [
    "## NCEM IO "
   ]
  },
  {
   "cell_type": "code",
   "execution_count": 168,
   "metadata": {},
   "outputs": [],
   "source": [
    "import glob\n",
    "from stempy import io, image\n",
    "import numpy as np\n",
    "from PIL import Image\n",
    "from mpi4py import MPI\n",
    "import sys\n",
    "width = 513\n",
    "height = 513"
   ]
  },
  {
   "cell_type": "code",
   "execution_count": 144,
   "metadata": {},
   "outputs": [
    {
     "name": "stdout",
     "output_type": "stream",
     "text": [
      "164\n"
     ]
    }
   ],
   "source": [
    "files = glob.glob('/global/cscratch1/sd/cjh1/scan_0000000308/*.dat')\n",
    "world_size=60\n",
    "print(len(files))"
   ]
  },
  {
   "cell_type": "code",
   "execution_count": 145,
   "metadata": {},
   "outputs": [],
   "source": [
    "def file_on_rank(rank):\n",
    "    files_rank=[]\n",
    "    files_per_rank = len(files) // world_size\n",
    "    left_over = len(files) % world_size\n",
    "    if rank < left_over:\n",
    "        offset = rank*(files_per_rank+1)\n",
    "        files_rank = files[offset:offset+files_per_rank+1]\n",
    "    else:\n",
    "        offset = rank*files_per_rank+left_over\n",
    "        files_rank = files[offset:offset+files_per_rank]\n",
    "    return files_rank"
   ]
  },
  {
   "cell_type": "code",
   "execution_count": 146,
   "metadata": {},
   "outputs": [],
   "source": [
    "files_ranks=[]\n",
    "for i in range(60):\n",
    "    files_ranks.append(file_on_rank(i))"
   ]
  },
  {
   "cell_type": "code",
   "execution_count": 8,
   "metadata": {},
   "outputs": [
    {
     "name": "stdout",
     "output_type": "stream",
     "text": [
      "CPU times: user 1min 13s, sys: 2min 17s, total: 3min 31s\n",
      "Wall time: 3min 25s\n"
     ]
    }
   ],
   "source": [
    "%%time\n",
    "for i in range (60):\n",
    "    reader = io.reader(files_ranks[i], version=io.FileVersion.VERSION2)\n",
    "    local_stem = image.create_stem_image(reader, width, height, 40, 288)"
   ]
  },
  {
   "cell_type": "code",
   "execution_count": null,
   "metadata": {},
   "outputs": [],
   "source": []
  },
  {
   "cell_type": "code",
   "execution_count": 147,
   "metadata": {},
   "outputs": [
    {
     "name": "stdout",
     "output_type": "stream",
     "text": [
      "CPU times: user 825 µs, sys: 1.45 ms, total: 2.27 ms\n",
      "Wall time: 62.4 ms\n"
     ]
    }
   ],
   "source": [
    "%%time\n",
    "reader = io.reader(files_ranks[51], version=io.FileVersion.VERSION2)"
   ]
  },
  {
   "cell_type": "code",
   "execution_count": 148,
   "metadata": {},
   "outputs": [
    {
     "name": "stdout",
     "output_type": "stream",
     "text": [
      "NOTE: Enter 'c' at the ipdb>  prompt to continue execution.\n",
      "> \u001b[0;32m<string>\u001b[0m(2)\u001b[0;36m<module>\u001b[0;34m()\u001b[0m\n",
      "\n"
     ]
    },
    {
     "name": "stdin",
     "output_type": "stream",
     "text": [
      "ipdb>  s\n"
     ]
    },
    {
     "name": "stdout",
     "output_type": "stream",
     "text": [
      "--Call--\n",
      "> \u001b[0;32m/global/homes/c/cjh1/4dstem/build/stempy/lib/stempy/image/__init__.py\u001b[0m(5)\u001b[0;36mcreate_stem_image\u001b[0;34m()\u001b[0m\n",
      "\u001b[0;32m      3 \u001b[0;31m\u001b[0;32mfrom\u001b[0m \u001b[0mcollections\u001b[0m \u001b[0;32mimport\u001b[0m \u001b[0mnamedtuple\u001b[0m\u001b[0;34m\u001b[0m\u001b[0;34m\u001b[0m\u001b[0m\n",
      "\u001b[0m\u001b[0;32m      4 \u001b[0;31m\u001b[0;34m\u001b[0m\u001b[0m\n",
      "\u001b[0m\u001b[0;32m----> 5 \u001b[0;31mdef create_stem_image(reader, width, height,  inner_radius,\n",
      "\u001b[0m\u001b[0;32m      6 \u001b[0;31m                      outer_radius, read_threads=2):\n",
      "\u001b[0m\u001b[0;32m      7 \u001b[0;31m    img =  _image.create_stem_image(reader.begin(), reader.end(),\n",
      "\u001b[0m\n"
     ]
    },
    {
     "name": "stdin",
     "output_type": "stream",
     "text": [
      "ipdb>  s\n"
     ]
    },
    {
     "name": "stdout",
     "output_type": "stream",
     "text": [
      "> \u001b[0;32m/global/homes/c/cjh1/4dstem/build/stempy/lib/stempy/image/__init__.py\u001b[0m(7)\u001b[0;36mcreate_stem_image\u001b[0;34m()\u001b[0m\n",
      "\u001b[0;32m      5 \u001b[0;31mdef create_stem_image(reader, width, height,  inner_radius,\n",
      "\u001b[0m\u001b[0;32m      6 \u001b[0;31m                      outer_radius, read_threads=2):\n",
      "\u001b[0m\u001b[0;32m----> 7 \u001b[0;31m    img =  _image.create_stem_image(reader.begin(), reader.end(),\n",
      "\u001b[0m\u001b[0;32m      8 \u001b[0;31m                                    width, height,  inner_radius, outer_radius, read_threads)\n",
      "\u001b[0m\u001b[0;32m      9 \u001b[0;31m\u001b[0;34m\u001b[0m\u001b[0m\n",
      "\u001b[0m\n"
     ]
    },
    {
     "name": "stdin",
     "output_type": "stream",
     "text": [
      "ipdb>  c\n"
     ]
    }
   ],
   "source": [
    "%%debug\n",
    "local_stem = image.create_stem_image(reader, width, height, 40, 288)"
   ]
  },
  {
   "cell_type": "code",
   "execution_count": 176,
   "metadata": {},
   "outputs": [
    {
     "name": "stdout",
     "output_type": "stream",
     "text": [
      "CPU times: user 1.23 s, sys: 3.27 s, total: 4.5 s\n",
      "Wall time: 3.84 s\n"
     ]
    }
   ],
   "source": [
    "%%time\n",
    "reader = io.reader(files_ranks[11], version=io.FileVersion.VERSION2)\n",
    "local_stem = image.create_stem_image(reader, width, height, 40, 288)"
   ]
  },
  {
   "cell_type": "code",
   "execution_count": 178,
   "metadata": {},
   "outputs": [
    {
     "name": "stdout",
     "output_type": "stream",
     "text": [
      "CPU times: user 569 µs, sys: 3.66 s, total: 3.66 s\n",
      "Wall time: 3.9 s\n"
     ]
    }
   ],
   "source": [
    "%%time\n",
    "reader = io.reader(files_ranks[21], version=io.FileVersion.VERSION2)\n",
    "r=reader.read()\n",
    "r2=reader.read()\n",
    "r3=reader.read()"
   ]
  },
  {
   "cell_type": "code",
   "execution_count": 150,
   "metadata": {},
   "outputs": [
    {
     "data": {
      "text/plain": [
       "1061683200"
      ]
     },
     "execution_count": 150,
     "metadata": {},
     "output_type": "execute_result"
    }
   ],
   "source": [
    "r.data.nbytes"
   ]
  },
  {
   "cell_type": "code",
   "execution_count": 165,
   "metadata": {},
   "outputs": [
    {
     "name": "stdout",
     "output_type": "stream",
     "text": [
      "(1600, 576, 576)\n",
      "(1600, 576, 576)\n",
      "(1600, 576, 576)\n"
     ]
    }
   ],
   "source": [
    "print(r.data.shape)\n",
    "print(r2.data.shape)\n",
    "print(r3.data.shape)"
   ]
  },
  {
   "cell_type": "code",
   "execution_count": 166,
   "metadata": {},
   "outputs": [
    {
     "name": "stdout",
     "output_type": "stream",
     "text": [
      "1600\n",
      "576\n",
      "2\n",
      "(513, 513)\n",
      "(513, 513)\n"
     ]
    }
   ],
   "source": [
    "from pympler import asizeof\n",
    "import copy\n",
    "print(r.header.images_in_block)\n",
    "print(r.header.columns)\n",
    "print(r.header.version)\n",
    "print(local_stem.bright.shape)\n",
    "print(local_stem.dark.shape)"
   ]
  },
  {
   "cell_type": "code",
   "execution_count": 167,
   "metadata": {},
   "outputs": [
    {
     "data": {
      "text/plain": [
       "array([[0, 0, 0, ..., 0, 0, 0],\n",
       "       [0, 0, 0, ..., 0, 0, 0],\n",
       "       [0, 0, 0, ..., 0, 0, 0],\n",
       "       ...,\n",
       "       [0, 0, 0, ..., 0, 0, 0],\n",
       "       [0, 0, 0, ..., 0, 0, 0],\n",
       "       [0, 0, 0, ..., 0, 0, 0]], dtype=uint16)"
      ]
     },
     "execution_count": 167,
     "metadata": {},
     "output_type": "execute_result"
    }
   ],
   "source": [
    "r.data[0]"
   ]
  },
  {
   "cell_type": "markdown",
   "metadata": {},
   "source": [
    "## Benchmarking on Cori Burst Buffer and CSCRATCH, June 26 2019"
   ]
  },
  {
   "cell_type": "code",
   "execution_count": 169,
   "metadata": {},
   "outputs": [],
   "source": [
    "import pandas as pd\n",
    "import numpy as np\n",
    "import matplotlib.pyplot as plt\n",
    "import glob,os\n",
    "%matplotlib inline"
   ]
  },
  {
   "cell_type": "code",
   "execution_count": 170,
   "metadata": {},
   "outputs": [],
   "source": [
    "bb_log=pd.read_csv('/global/cscratch1/sd/jialin/ncem_io/bb_io.csv',delimiter='\\t',index_col=0)\n",
    "cscratch_log=pd.read_csv('/global/cscratch1/sd/jialin/ncem_io/cscratch_io.csv',delimiter='\\t',index_col=0)"
   ]
  },
  {
   "cell_type": "code",
   "execution_count": 171,
   "metadata": {},
   "outputs": [],
   "source": [
    "bb_bw=1061683204/bb_log.mean(axis=1)/1024/1024\n",
    "bb_bw_std=(1061683204/bb_log/1024/1024).std(axis=1)\n",
    "cs_bw=1061683204/cscratch_log.mean(axis=1)/1024/1024\n",
    "cs_bw_std=(1061683204/cscratch_log/1024/1024).std(axis=1)"
   ]
  },
  {
   "cell_type": "code",
   "execution_count": 172,
   "metadata": {},
   "outputs": [
    {
     "data": {
      "text/plain": [
       "<matplotlib.legend.Legend at 0x2aaaed6836d8>"
      ]
     },
     "execution_count": 172,
     "metadata": {},
     "output_type": "execute_result"
    },
    {
     "data": {
      "image/png": "[encoded data removed]",
      "text/plain": [
       "<Figure size 432x288 with 1 Axes>"
      ]
     },
     "metadata": {
      "needs_background": "light"
     },
     "output_type": "display_data"
    }
   ],
   "source": [
    "#plt.errorbar(bb_log.index, y=bb_bw,yerr=bb_bw_std,ecolor='green',ls='--')\n",
    "plt.plot(bb_bw,marker='o',label='Burst Buffer')\n",
    "plt.plot(cs_bw,marker='*',label='CSCRATCH')\n",
    "plt.xticks(bb_log.index,bb_log.index)\n",
    "plt.xlabel('Number of I/O Processes')\n",
    "plt.ylabel('MB/sec')\n",
    "plt.title('NCEM IO Benchmarking on Burst Buffer vs. CSCRATCH')\n",
    "plt.legend()"
   ]
  },
  {
   "cell_type": "code",
   "execution_count": 173,
   "metadata": {},
   "outputs": [
    {
     "data": {
      "text/plain": [
       "<matplotlib.legend.Legend at 0x2aaaed6b0908>"
      ]
     },
     "execution_count": 173,
     "metadata": {},
     "output_type": "execute_result"
    },
    {
     "data": {
      "image/png": "[encoded data removed]",
      "text/plain": [
       "<Figure size 432x288 with 1 Axes>"
      ]
     },
     "metadata": {
      "needs_background": "light"
     },
     "output_type": "display_data"
    }
   ],
   "source": [
    "plt.errorbar(bb_log.index, y=bb_bw,yerr=bb_bw_std,marker='o',label='Burst Buffer')\n",
    "plt.errorbar(cscratch_log.index, y=cs_bw,yerr=cs_bw_std,marker='*',label='CSCRATCH')\n",
    "#plt.plot(bb_bw,marker='o',label='Burst Buffer')\n",
    "#plt.plot(cs_bw,marker='*',label='CSCRATCH')\n",
    "plt.xticks(bb_log.index,bb_log.index)\n",
    "plt.xlabel('Number of I/O Processes')\n",
    "plt.ylabel('MB/sec')\n",
    "plt.title('NCEM IO Benchmarking on Burst Buffer vs. CSCRATCH')\n",
    "plt.legend()"
   ]
  },
  {
   "cell_type": "code",
   "execution_count": 174,
   "metadata": {},
   "outputs": [
    {
     "data": {
      "text/plain": [
       "3296.9215831346232"
      ]
     },
     "execution_count": 174,
     "metadata": {},
     "output_type": "execute_result"
    }
   ],
   "source": [
    "bb_bw.max()"
   ]
  },
  {
   "cell_type": "code",
   "execution_count": 175,
   "metadata": {},
   "outputs": [
    {
     "data": {
      "text/plain": [
       "1213.974924151683"
      ]
     },
     "execution_count": 175,
     "metadata": {},
     "output_type": "execute_result"
    }
   ],
   "source": [
    "cs_bw.max()"
   ]
  },
  {
   "cell_type": "code",
   "execution_count": 179,
   "metadata": {},
   "outputs": [
    {
     "data": {
      "text/plain": [
       "2.4864964604901263"
      ]
     },
     "execution_count": 179,
     "metadata": {},
     "output_type": "execute_result"
    }
   ],
   "source": [
    "bb_bw.max()/bb_bw.min()"
   ]
  },
  {
   "cell_type": "code",
   "execution_count": null,
   "metadata": {},
   "outputs": [],
   "source": []
  }
 ],
 "metadata": {
  "kernelspec": {
   "display_name": "ncem",
   "language": "python",
   "name": "ncem"
  },
  "language_info": {
   "codemirror_mode": {
    "name": "ipython",
    "version": 3
   },
   "file_extension": ".py",
   "mimetype": "text/x-python",
   "name": "python",
   "nbconvert_exporter": "python",
   "pygments_lexer": "ipython3",
   "version": "3.6.8"
  }
 },
 "nbformat": 4,
 "nbformat_minor": 2
}
