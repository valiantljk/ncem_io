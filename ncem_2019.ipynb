{
 "cells": [
  {
   "cell_type": "code",
   "execution_count": 2,
   "metadata": {},
   "outputs": [],
   "source": [
    "import glob\n",
    "from stempy import io, image\n",
    "import numpy as np\n",
    "from PIL import Image\n",
    "from mpi4py import MPI\n",
    "import sys\n",
    "width = 513\n",
    "height = 513"
   ]
  },
  {
   "cell_type": "code",
   "execution_count": 3,
   "metadata": {},
   "outputs": [],
   "source": [
    "files = glob.glob('/global/cscratch1/sd/cjh1/scan_0000000308/*.dat')"
   ]
  },
  {
   "cell_type": "code",
   "execution_count": 4,
   "metadata": {},
   "outputs": [],
   "source": [
    "rank=0"
   ]
  },
  {
   "cell_type": "code",
   "execution_count": 6,
   "metadata": {},
   "outputs": [],
   "source": [
    "world_size=60\n",
    "files_per_rank = len(files) // world_size\n",
    "left_over = len(files) % world_size\n",
    "if rank < left_over:\n",
    "    offset = rank*(files_per_rank+1)\n",
    "    files = files[offset:offset+files_per_rank+1]\n",
    "else:\n",
    "    offset = rank*files_per_rank+left_over\n",
    "    files = files[offset:offset+files_per_rank]"
   ]
  },
  {
   "cell_type": "code",
   "execution_count": 7,
   "metadata": {},
   "outputs": [
    {
     "data": {
      "text/plain": [
       "['/global/cscratch1/sd/cjh1/scan_0000000308/stem4d_0000000308_0000000077.dat',\n",
       " '/global/cscratch1/sd/cjh1/scan_0000000308/stem4d_0000000308_0000000065.dat',\n",
       " '/global/cscratch1/sd/cjh1/scan_0000000308/stem4d_0000000308_0000000099.dat']"
      ]
     },
     "execution_count": 7,
     "metadata": {},
     "output_type": "execute_result"
    }
   ],
   "source": [
    "files"
   ]
  },
  {
   "cell_type": "code",
   "execution_count": null,
   "metadata": {},
   "outputs": [],
   "source": []
  },
  {
   "cell_type": "code",
   "execution_count": 9,
   "metadata": {},
   "outputs": [
    {
     "name": "stdout",
     "output_type": "stream",
     "text": [
      "CPU times: user 0 ns, sys: 584 µs, total: 584 µs\n",
      "Wall time: 1.56 ms\n"
     ]
    }
   ],
   "source": [
    "%%time\n",
    "reader = io.reader(files, version=io.FileVersion.VERSION2)"
   ]
  },
  {
   "cell_type": "code",
   "execution_count": 10,
   "metadata": {},
   "outputs": [
    {
     "name": "stdout",
     "output_type": "stream",
     "text": [
      "CPU times: user 1.25 s, sys: 2.46 s, total: 3.71 s\n",
      "Wall time: 3.07 s\n"
     ]
    }
   ],
   "source": [
    "%%time\n",
    "local_stem = image.create_stem_image(reader, width, height, 40, 288)"
   ]
  },
  {
   "cell_type": "code",
   "execution_count": 30,
   "metadata": {},
   "outputs": [
    {
     "data": {
      "text/plain": [
       "(513, 513)"
      ]
     },
     "execution_count": 30,
     "metadata": {},
     "output_type": "execute_result"
    }
   ],
   "source": [
    "local_stem.bright.shape"
   ]
  },
  {
   "cell_type": "code",
   "execution_count": 31,
   "metadata": {},
   "outputs": [
    {
     "data": {
      "text/plain": [
       "(513, 513)"
      ]
     },
     "execution_count": 31,
     "metadata": {},
     "output_type": "execute_result"
    }
   ],
   "source": [
    "local_stem.dark.shape"
   ]
  },
  {
   "cell_type": "raw",
   "metadata": {},
   "source": [
    "def save_img(stem_image_data, name):\n",
    "    min = np.min(stem_image_data)\n",
    "    max = np.max(stem_image_data)\n",
    "\n",
    "    stem_image_data = stem_image_data.reshape((width, width))\n",
    "    stem_image_data = np.interp(stem_image_data, [min, max], [0, 256])\n",
    "    stem_image_data = stem_image_data.astype(np.uint8)\n",
    "    img = Image.fromarray(stem_image_data)\n",
    "    img.save(name)\n",
    "\n",
    "comm = MPI.COMM_WORLD\n",
    "rank = comm.Get_rank()\n",
    "world_size = comm.Get_size()\n",
    "comm.Barrier()\n",
    "start = MPI.Wtime()\n",
    "\n",
    "files = glob.glob('/global/cscratch1/sd/cjh1/scan_0000000308/*.dat')\n",
    "files_per_rank = len(files) // world_size\n",
    "left_over = len(files) % world_size\n",
    "if rank < left_over:\n",
    "    offset = rank*(files_per_rank+1)\n",
    "    files = files[offset:offset+files_per_rank+1]\n",
    "else:\n",
    "    offset = rank*files_per_rank+left_over\n",
    "    files = files[offset:offset+files_per_rank]\n",
    "# Create local sum\n",
    "comm.Barrier()\n",
    "reader = io.reader(files, version=io.FileVersion.VERSION2)\n",
    "time_reader=MPI.Wtime()\n",
    "local_stem = image.create_stem_image(reader, width, height, 40, 288)\n",
    "dsetsize= sys.getsizeof(local_stem)\n",
    "comm.Barrier()\n",
    "time_create=MPI.Wtime()\n",
    "# Now reduce to root\n",
    "global_stem_bright = np.zeros(width*height, dtype='uint64')\n",
    "global_stem_dark = np.zeros(width*height, dtype='uint64')\n",
    "comm.Reduce(local_stem.bright, global_stem_bright, op=MPI.SUM)\n",
    "comm.Reduce(local_stem.dark, global_stem_dark, op=MPI.SUM)\n",
    "comm.Barrier()\n",
    "time_reduce=MPI.Wtime()\n",
    "if rank == 0:\n",
    "    save_img(global_stem_bright, 'bright.png')\n",
    "    save_img(global_stem_dark, 'dark.png')\n",
    "\n",
    "comm.Barrier()\n",
    "end = MPI.Wtime()\n",
    "\n",
    "if rank == 0:\n",
    "    print('total time: %s' % (end - start))\n",
    "    print('io.reader time:%f'%(time_reader-start))\n",
    "    print('load_stem time:%f'%(time_create-time_reader))\n",
    "    print('reduce time:%f'%(time_reduce-time_create))\n",
    "    print('save img time:%f'%(end-time_reduce))\n",
    "    print('local stemp size:%f'%(dsetsize))\n"
   ]
  },
  {
   "cell_type": "code",
   "execution_count": null,
   "metadata": {},
   "outputs": [],
   "source": []
  }
 ],
 "metadata": {
  "kernelspec": {
   "display_name": "ncem",
   "language": "python",
   "name": "ncem"
  },
  "language_info": {
   "codemirror_mode": {
    "name": "ipython",
    "version": 3
   },
   "file_extension": ".py",
   "mimetype": "text/x-python",
   "name": "python",
   "nbconvert_exporter": "python",
   "pygments_lexer": "ipython3",
   "version": "3.6.8"
  }
 },
 "nbformat": 4,
 "nbformat_minor": 2
}
